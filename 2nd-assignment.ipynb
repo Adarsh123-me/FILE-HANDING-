{
 "cells": [
  {
   "cell_type": "code",
   "execution_count": 1,
   "metadata": {},
   "outputs": [],
   "source": [
    "#1. Explain the importance of Functions.\n",
    "# Functions are important in mathematics because\n",
    "#  they express relationships between variables and can be used to model real-world situations, make predictions, and solve problems. They are used in many branches of mathematics, such as calculus and algebra, and in a wide range of applications, from physics and engineering to economics and computer science"
   ]
  },
  {
   "cell_type": "code",
   "execution_count": 2,
   "metadata": {},
   "outputs": [
    {
     "name": "stdout",
     "output_type": "stream",
     "text": [
      "Hello, Alice! Welcome to the class.\n",
      "Hello, Bob! Welcome to the class.\n",
      "Hello, Charlie! Welcome to the class.\n"
     ]
    }
   ],
   "source": [
    "# Write a basic function to greet students.\n",
    "def greet_students(student_names):\n",
    "    for name in student_names:\n",
    "        print(f\"Hello, {name}! Welcome to the class.\")\n",
    "\n",
    "students = [\"Alice\", \"Bob\", \"Charlie\"]\n",
    "greet_students(students)\n"
   ]
  },
  {
   "cell_type": "code",
   "execution_count": 3,
   "metadata": {},
   "outputs": [
    {
     "name": "stdout",
     "output_type": "stream",
     "text": [
      "3\n",
      "3\n"
     ]
    }
   ],
   "source": [
    "# 3. What is the difference between print and return statements?\n",
    "\n",
    "# The main difference between print and return statements in Python is that print displays the output to the console, while return sends the output back to the calling function.\n",
    "def add_numbers(a, b):\n",
    "  \"\"\"Returns the sum of two numbers.\"\"\"\n",
    "  sum = a + b\n",
    "  return sum\n",
    "\n",
    "print(add_numbers(1, 2))\n",
    "\n",
    "# When the add_numbers function is called, it first calculates the sum of the two input numbers. Then, it returns the sum to the calling function. The calling function then prints the sum to the console.\n",
    "def add_numbers(a, b):\n",
    "  \"\"\"Returns the sum of two numbers.\"\"\"\n",
    "  sum = a + b\n",
    "  return sum\n",
    "\n",
    "result = add_numbers(1, 2)\n",
    "print(result)"
   ]
  },
  {
   "cell_type": "code",
   "execution_count": 4,
   "metadata": {},
   "outputs": [
    {
     "name": "stdout",
     "output_type": "stream",
     "text": [
      "1\n",
      "2\n",
      "3\n",
      "4\n",
      "5\n"
     ]
    }
   ],
   "source": [
    "# 5. Explain the iterator function.\n",
    "# An iterator is an object that can be used to iterate over a collection of objects. It provides a way to access the elements of the collection one at a time, without having to know the internal structure of the collection.\n",
    "# Iterators are often used in for loops to iterate over a collection of objects. For example, the following code iterates over a list of numbers and prints each number to the console:\n",
    "numbers = [1, 2, 3, 4, 5]\n",
    "for number in numbers:\n",
    "  print(number)"
   ]
  },
  {
   "cell_type": "code",
   "execution_count": 5,
   "metadata": {},
   "outputs": [
    {
     "name": "stdout",
     "output_type": "stream",
     "text": [
      "1\n",
      "4\n",
      "9\n",
      "16\n",
      "25\n",
      "36\n",
      "49\n",
      "64\n",
      "81\n",
      "100\n"
     ]
    }
   ],
   "source": [
    "# 6. Write a code that generates the squares of numbers from 1 to n using a generator.\n",
    "def generate_squares(n):\n",
    "    for i in range(1, n + 1):\n",
    "        yield i * i\n",
    "\n",
    "\n",
    "n=10\n",
    "squares_generator = generate_squares(n)\n",
    "\n",
    "for square in squares_generator:\n",
    "    print(square)\n"
   ]
  },
  {
   "cell_type": "code",
   "execution_count": 6,
   "metadata": {},
   "outputs": [
    {
     "name": "stdout",
     "output_type": "stream",
     "text": [
      "1\n",
      "2\n",
      "3\n",
      "4\n",
      "5\n",
      "6\n",
      "7\n",
      "8\n",
      "9\n",
      "11\n",
      "22\n",
      "33\n",
      "44\n",
      "55\n",
      "66\n",
      "77\n",
      "88\n",
      "99\n"
     ]
    }
   ],
   "source": [
    "# 7. Write a code that generates palindromic numbers up to n using a generator.\n",
    "def generate_palindromic_numbers(n):\n",
    "    for i in range(1, n + 1):\n",
    "        if str(i) == str(i)[::-1]:\n",
    "            yield i\n",
    "\n",
    "\n",
    "n = 100  # Replace this with any value of n you want\n",
    "palindromic_numbers_generator = generate_palindromic_numbers(n)\n",
    "\n",
    "for palindromic_number in palindromic_numbers_generator:\n",
    "    print(palindromic_number)\n"
   ]
  },
  {
   "cell_type": "code",
   "execution_count": 7,
   "metadata": {},
   "outputs": [
    {
     "name": "stdout",
     "output_type": "stream",
     "text": [
      "2\n",
      "4\n",
      "6\n",
      "8\n",
      "10\n",
      "12\n",
      "14\n",
      "16\n",
      "18\n",
      "20\n"
     ]
    }
   ],
   "source": [
    "# 8. Write a code that generates even numbers from 2 to n using a generator.\n",
    "def generate_even_numbers(n):\n",
    "    for i in range(2, n + 1, 2):\n",
    "        yield i\n",
    "\n",
    "# Example usage:\n",
    "n = 20  # Replace this with any value of n you want\n",
    "even_numbers_generator = generate_even_numbers(n)\n",
    "\n",
    "for even_number in even_numbers_generator:\n",
    "    print(even_number)\n"
   ]
  },
  {
   "cell_type": "code",
   "execution_count": 8,
   "metadata": {},
   "outputs": [
    {
     "name": "stdout",
     "output_type": "stream",
     "text": [
      "1\n",
      "2\n",
      "4\n",
      "8\n",
      "16\n",
      "32\n",
      "64\n",
      "128\n",
      "256\n",
      "512\n",
      "1024\n"
     ]
    }
   ],
   "source": [
    "# 9. Write a code that generates powers of two up to n using a generator.\n",
    "def generate_powers_of_two(n):\n",
    "    for i in range(n + 1):\n",
    "        yield 2 ** i\n",
    "\n",
    "# Example usage:\n",
    "n = 10  # Replace this with any value of n you want\n",
    "powers_of_two_generator = generate_powers_of_two(n)\n",
    "\n",
    "for power_of_two in powers_of_two_generator:\n",
    "    print(power_of_two)\n"
   ]
  },
  {
   "cell_type": "code",
   "execution_count": 9,
   "metadata": {},
   "outputs": [
    {
     "name": "stdout",
     "output_type": "stream",
     "text": [
      "2\n",
      "3\n",
      "5\n",
      "7\n",
      "11\n",
      "13\n",
      "17\n",
      "19\n",
      "23\n",
      "29\n",
      "31\n",
      "37\n",
      "41\n",
      "43\n",
      "47\n"
     ]
    }
   ],
   "source": [
    "# 10. Write a code that generates prime numbers up to n using a generator.\n",
    "\n",
    "def is_prime(number):\n",
    "    if number <= 1:\n",
    "        return False\n",
    "    for i in range(2, int(number ** 0.5) + 1):\n",
    "        if number % i == 0:\n",
    "            return False\n",
    "    return True\n",
    "\n",
    "def generate_primes(n):\n",
    "    for num in range(2, n + 1):\n",
    "        if is_prime(num):\n",
    "            yield num\n",
    "\n",
    "# Example usage:\n",
    "n = 50  # Replace this with any value of n you want\n",
    "primes_generator = generate_primes(n)\n",
    "\n",
    "for prime in primes_generator:\n",
    "    print(prime)\n"
   ]
  },
  {
   "cell_type": "code",
   "execution_count": 10,
   "metadata": {},
   "outputs": [
    {
     "name": "stdout",
     "output_type": "stream",
     "text": [
      "The sum of 5 and 7 is: 12\n"
     ]
    }
   ],
   "source": [
    "# 11. Write a code that uses a lambda function to calculate the sum of two numbers.\n",
    "# Define a lambda function to calculate the sum of two numbers\n",
    "sum_lambda = lambda x, y: x + y\n",
    "\n",
    "# Example usage:\n",
    "a = 5\n",
    "b = 7\n",
    "result = sum_lambda(a, b)\n",
    "\n",
    "print(f\"The sum of {a} and {b} is: {result}\")\n"
   ]
  },
  {
   "cell_type": "code",
   "execution_count": 11,
   "metadata": {},
   "outputs": [
    {
     "name": "stdout",
     "output_type": "stream",
     "text": [
      "The square of 5 is: 25\n"
     ]
    }
   ],
   "source": [
    "# 12. Write a code that uses a lambda function to calculate the square of a given number.\n",
    "# Define a lambda function to calculate the square of a number\n",
    "square_lambda = lambda x: x ** 2\n",
    "\n",
    "# Example usage:\n",
    "number = 5\n",
    "result = square_lambda(number)\n",
    "\n",
    "print(f\"The square of {number} is: {result}\")\n"
   ]
  },
  {
   "cell_type": "code",
   "execution_count": 12,
   "metadata": {},
   "outputs": [
    {
     "name": "stdout",
     "output_type": "stream",
     "text": [
      "7 is odd.\n"
     ]
    }
   ],
   "source": [
    "# 13. Write a code that uses a lambda function to check whether a given number is even or odd.\n",
    "# Define a lambda function to check if a number is even\n",
    "is_even = lambda x: x % 2 == 0\n",
    "\n",
    "# Example usage:\n",
    "number = 7\n",
    "if is_even(number):\n",
    "    print(f\"{number} is even.\")\n",
    "else:\n",
    "    print(f\"{number} is odd.\")\n"
   ]
  },
  {
   "cell_type": "code",
   "execution_count": 13,
   "metadata": {},
   "outputs": [
    {
     "name": "stdout",
     "output_type": "stream",
     "text": [
      "Concatenated String: Hello, world!\n"
     ]
    }
   ],
   "source": [
    "# 15. Write a code that uses a lambda function to concatenate two strings.\n",
    "# Define a lambda function to concatenate two strings\n",
    "concat_strings = lambda x, y: x + y\n",
    "\n",
    "# Example usage:\n",
    "string1 = \"Hello, \"\n",
    "string2 = \"world!\"\n",
    "result = concat_strings(string1, string2)\n",
    "\n",
    "print(\"Concatenated String:\", result)\n"
   ]
  },
  {
   "cell_type": "code",
   "execution_count": 14,
   "metadata": {},
   "outputs": [
    {
     "name": "stdout",
     "output_type": "stream",
     "text": [
      "The maximum of the three numbers is: 25\n"
     ]
    }
   ],
   "source": [
    "# 16. Write a code that uses a lambda function to find the maximum of three given numbers.\n",
    "# Define a lambda function to find the maximum of three numbers\n",
    "find_max = lambda x, y, z: max(x, y, z)\n",
    "\n",
    "# Example usage:\n",
    "num1 = 10\n",
    "num2 = 25\n",
    "num3 = 15\n",
    "\n",
    "max_number = find_max(num1, num2, num3)\n",
    "print(\"The maximum of the three numbers is:\", max_number)\n"
   ]
  },
  {
   "cell_type": "code",
   "execution_count": 15,
   "metadata": {},
   "outputs": [
    {
     "name": "stdout",
     "output_type": "stream",
     "text": [
      "Squares of even numbers: [4, 16, 36, 64, 100]\n"
     ]
    }
   ],
   "source": [
    "# 17. Write a code that generates the squares of even numbers from a given list\n",
    "# Define a list of numbers\n",
    "numbers = [1, 2, 3, 4, 5, 6, 7, 8, 9, 10]\n",
    "\n",
    "# Use a list comprehension to generate squares of even numbers\n",
    "squares_of_even_numbers = [x ** 2 for x in numbers if x % 2 == 0]\n",
    "\n",
    "# Print the result\n",
    "print(\"Squares of even numbers:\", squares_of_even_numbers)\n"
   ]
  },
  {
   "cell_type": "code",
   "execution_count": 16,
   "metadata": {},
   "outputs": [
    {
     "name": "stdout",
     "output_type": "stream",
     "text": [
      "Product of positive numbers: 3024\n"
     ]
    }
   ],
   "source": [
    "# 18. Write a code that calculates the product of positive numbers from a given list.\n",
    "# Define a list of numbers\n",
    "numbers = [1, 2, -3, 4, -5, 6, 7, -8, 9, -10]\n",
    "\n",
    "# Calculate the product of positive numbers using a loop\n",
    "product_of_positives = 1\n",
    "for num in numbers:\n",
    "    if num > 0:\n",
    "        product_of_positives *= num\n",
    "\n",
    "# Print the result\n",
    "print(\"Product of positive numbers:\", product_of_positives)\n"
   ]
  },
  {
   "cell_type": "code",
   "execution_count": 17,
   "metadata": {},
   "outputs": [
    {
     "name": "stdout",
     "output_type": "stream",
     "text": [
      "Doubled values of odd numbers: [2, 2, 6, 4, 10, 6, 14, 8, 18, 10]\n"
     ]
    }
   ],
   "source": [
    "# 19. Write a code that doubles the values of odd numbers from a given list.\n",
    "# Define a list of numbers\n",
    "numbers = [1, 2, 3, 4, 5, 6, 7, 8, 9, 10]\n",
    "\n",
    "# Double the values of odd numbers using a list comprehension\n",
    "doubled_odd_numbers = [x * 2 if x % 2 != 0 else x for x in numbers]\n",
    "\n",
    "# Print the result\n",
    "print(\"Doubled values of odd numbers:\", doubled_odd_numbers)\n"
   ]
  },
  {
   "cell_type": "code",
   "execution_count": 18,
   "metadata": {},
   "outputs": [
    {
     "name": "stdout",
     "output_type": "stream",
     "text": [
      "Sum of cubes of numbers: 225\n"
     ]
    }
   ],
   "source": [
    "# 20. Write a code that calculates the sum of cubes of numbers from a given list.\n",
    "# Define a list of numbers\n",
    "numbers = [1, 2, 3, 4, 5]\n",
    "\n",
    "# Calculate the sum of cubes of numbers using a list comprehension and the sum() function\n",
    "sum_of_cubes = sum([x ** 3 for x in numbers])\n",
    "\n",
    "# Print the result\n",
    "print(\"Sum of cubes of numbers:\", sum_of_cubes)\n"
   ]
  },
  {
   "cell_type": "code",
   "execution_count": 19,
   "metadata": {},
   "outputs": [
    {
     "name": "stdout",
     "output_type": "stream",
     "text": [
      "Prime numbers from the list: [2, 3, 5, 7]\n"
     ]
    }
   ],
   "source": [
    "# 21. Write a code that filters out prime numbers from a given list.\n",
    "def is_prime(number):\n",
    "    if number <= 1:\n",
    "        return False\n",
    "    for i in range(2, int(number ** 0.5) + 1):\n",
    "        if number % i == 0:\n",
    "            return False\n",
    "    return True\n",
    "\n",
    "# Define a list of numbers\n",
    "numbers = [1, 2, 3, 4, 5, 6, 7, 8, 9, 10]\n",
    "\n",
    "# Filter out prime numbers using a list comprehension\n",
    "prime_numbers = [x for x in numbers if is_prime(x)]\n",
    "\n",
    "# Print the result\n",
    "print(\"Prime numbers from the list:\", prime_numbers)\n"
   ]
  },
  {
   "cell_type": "code",
   "execution_count": 20,
   "metadata": {},
   "outputs": [
    {
     "name": "stdout",
     "output_type": "stream",
     "text": [
      "Sum of 5 and 7 is: 12\n"
     ]
    }
   ],
   "source": [
    "# 22. Write a code that uses a lambda function to calculate the sum of two numbers.\n",
    "# Define a lambda function to calculate the sum of two numbers\n",
    "sum_lambda = lambda x, y: x + y\n",
    "\n",
    "# Example usage:\n",
    "num1 = 5\n",
    "num2 = 7\n",
    "result = sum_lambda(num1, num2)\n",
    "\n",
    "print(\"Sum of\", num1, \"and\", num2, \"is:\", result)\n"
   ]
  },
  {
   "cell_type": "code",
   "execution_count": 21,
   "metadata": {},
   "outputs": [
    {
     "name": "stdout",
     "output_type": "stream",
     "text": [
      "Square of 5 is: 25\n"
     ]
    }
   ],
   "source": [
    "\n",
    "# 23. Write a code that uses a lambda function to calculate the square of a given number.\n",
    "# Define a lambda function to calculate the square of a number\n",
    "square_lambda = lambda x: x ** 2\n",
    "\n",
    "# Example usage:\n",
    "number = 5\n",
    "result = square_lambda(number)\n",
    "\n",
    "print(\"Square of\", number, \"is:\", result)\n"
   ]
  },
  {
   "cell_type": "code",
   "execution_count": 22,
   "metadata": {},
   "outputs": [
    {
     "name": "stdout",
     "output_type": "stream",
     "text": [
      "7 is odd.\n"
     ]
    }
   ],
   "source": [
    "# 24. Write a code that uses a lambda function to check whether a given number is even or odd.\n",
    "# Define a lambda function to check if a number is even\n",
    "is_even_lambda = lambda x: x % 2 == 0\n",
    "\n",
    "# Example usage:\n",
    "number = 7\n",
    "\n",
    "if is_even_lambda(number):\n",
    "    print(number, \"is even.\")\n",
    "else:\n",
    "    print(number, \"is odd.\")\n"
   ]
  },
  {
   "cell_type": "code",
   "execution_count": 23,
   "metadata": {},
   "outputs": [
    {
     "name": "stdout",
     "output_type": "stream",
     "text": [
      "Concatenated String: Hello, world!\n"
     ]
    }
   ],
   "source": [
    "# 25. Write a code that uses a lambda function to concatenate two strings.\n",
    "# Define a lambda function to concatenate two strings\n",
    "concat_strings_lambda = lambda x, y: x + y\n",
    "\n",
    "# Example usage:\n",
    "string1 = \"Hello, \"\n",
    "string2 = \"world!\"\n",
    "\n",
    "result = concat_strings_lambda(string1, string2)\n",
    "print(\"Concatenated String:\", result)\n"
   ]
  },
  {
   "cell_type": "code",
   "execution_count": 24,
   "metadata": {},
   "outputs": [
    {
     "name": "stdout",
     "output_type": "stream",
     "text": [
      "The maximum of the three numbers is: 25\n"
     ]
    }
   ],
   "source": [
    "# 26. Write a code that uses a lambda function to find the maximum of three given numbers.\n",
    "# Define a lambda function to find the maximum of three numbers\n",
    "max_of_three = lambda x, y, z: max(x, y, z)\n",
    "\n",
    "# Example usage:\n",
    "num1 = 10\n",
    "num2 = 25\n",
    "num3 = 15\n",
    "\n",
    "max_number = max_of_three(num1, num2, num3)\n",
    "print(\"The maximum of the three numbers is:\", max_number)\n"
   ]
  },
  {
   "cell_type": "markdown",
   "metadata": {},
   "source": [
    "# ## 27. What is encapsulation in OOP?\n",
    "### Encapsulation is one of the fundamental concepts in object-oriented programming. It is the bundling of data and methods that operate on that data into a single unit, called a class. This bundling of data and methods helps to protect the data from being modified by unauthorized code. It also helps to make the code more reusable and maintainable.\n",
    "### In Python, encapsulation is achieved through the use of classes and access modifiers. Classes are used to create blueprints for objects, and access modifiers are used to control access to the data and methods of a class.\n",
    "### There are two types of access modifiers in Python: public and private. Public access modifiers allow any code to access the data and methods of a class. Private access modifiers restrict access to the data and methods of a class to only the code within the class itself.\n",
    "### class Person:\n",
    "    def __init__(self, name, age):\n",
    "        self.name = name\n",
    "        self.age = age\n",
    "\n",
    "    def get_name(self):\n",
    "        return self.name\n",
    "\n",
    "    def get_age(self):\n",
    "        return self.age\n",
    "\n",
    "person = Person(\"John Doe\", 30)\n",
    "\n",
    "print(person.get_name())\n",
    "print(person.get_age())\n",
    "\n"
   ]
  },
  {
   "cell_type": "markdown",
   "metadata": {},
   "source": [
    "### 28. Explain the use of access modifiers in Python classes.\n",
    "\n",
    "### In Python, access modifiers are keywords that specify the accessibility of attributes and methods of a class. There are three types of access modifiers in Python:\n",
    "### Public: Public attributes and methods are accessible from anywhere in the program.\n",
    "### Protected: Protected attributes and methods are accessible from within the class and its subclasses.\n",
    "### Private: Private attributes and methods are only accessible from within the class.\n",
    "### Access modifiers are used to control the access to the data and functionality of a class. This can help to improve the security and maintainability of the code."
   ]
  },
  {
   "cell_type": "markdown",
   "metadata": {},
   "source": [
    "### 29. What is inheritance in OOP?\n",
    "### In object-oriented programming (OOP), inheritance is a feature that allows a class to acquire properties and characteristics from another class. The class that inherits properties is called the derived class or subclass, while the class whose properties are inherited is called the base class or superclass"
   ]
  },
  {
   "cell_type": "markdown",
   "metadata": {},
   "source": [
    "### 30. Define polymorphism in OOP.\n",
    "### Polymorphism is a core concept in object-oriented programming (OOP) that allows a program to use variables of different types at different times. It also allows a program to redefine methods for derived classes"
   ]
  },
  {
   "cell_type": "markdown",
   "metadata": {},
   "source": [
    "### 31. Explain method overriding in Python.\n",
    "### Method overriding is achieved by defining a method in the subclass with the same name and the same number of parameters as the method in the superclass. When an object of the subclass calls the overridden method, the version of the method in the subclass is executed, instead of the version of the method in the superclass."
   ]
  },
  {
   "cell_type": "code",
   "execution_count": 25,
   "metadata": {},
   "outputs": [
    {
     "name": "stdout",
     "output_type": "stream",
     "text": [
      "Woof!\n"
     ]
    }
   ],
   "source": [
    "# <!-- 32. Define a parent class Animal with a method make _sound that prints \"Generic animal sound\". Create a child class Dog inheriting from Animal with a method make _sound that prints \"Woof!\". -->\n",
    "class Animal:\n",
    "    def make_sound(self):\n",
    "        print(\"Generic animal sound\")\n",
    "\n",
    "class Dog(Animal):\n",
    "    def make_sound(self):\n",
    "        print(\"Woof!\")\n",
    "\n",
    "# Creating an instance of Dog\n",
    "my_dog = Dog()\n",
    "\n",
    "# Calling the make_sound method of Dog\n",
    "my_dog.make_sound()\n"
   ]
  },
  {
   "cell_type": "code",
   "execution_count": 26,
   "metadata": {},
   "outputs": [
    {
     "name": "stdout",
     "output_type": "stream",
     "text": [
      "Dog runs\n"
     ]
    }
   ],
   "source": [
    "# 33. Define a method move in the Animal class that prints \"Animal moves\". Override the move method in the Dog class to print \"Dog runs.\"\n",
    "class Animal:\n",
    "    def make_sound(self):\n",
    "        print(\"Generic animal sound\")\n",
    "\n",
    "    def move(self):\n",
    "        print(\"Animal moves\")\n",
    "\n",
    "class Dog(Animal):\n",
    "    def make_sound(self):\n",
    "        print(\"Woof!\")\n",
    "\n",
    "    def move(self):\n",
    "        print(\"Dog runs\")\n",
    "\n",
    "# Creating an instance of Dog\n",
    "my_dog = Dog()\n",
    "\n",
    "# Calling the move method of Dog\n",
    "my_dog.move()\n"
   ]
  },
  {
   "cell_type": "code",
   "execution_count": 27,
   "metadata": {},
   "outputs": [
    {
     "name": "stdout",
     "output_type": "stream",
     "text": [
      "Giving birth to live young.\n"
     ]
    }
   ],
   "source": [
    "# 34. Create a class Mammal with a method reproduce that prints \"Giving birth to live young.\" Create a class\n",
    "# DogMammal inheriting from both Dog and Mammal.\n",
    "class Mammal:\n",
    "    def reproduce(self):\n",
    "        print(\"Giving birth to live young.\")\n",
    "\n",
    "class Animal:\n",
    "    def make_sound(self):\n",
    "        print(\"Generic animal sound\")\n",
    "\n",
    "    def move(self):\n",
    "        print(\"Animal moves\")\n",
    "\n",
    "class Dog(Animal):\n",
    "    def make_sound(self):\n",
    "        print(\"Woof!\")\n",
    "\n",
    "    def move(self):\n",
    "        print(\"Dog runs\")\n",
    "\n",
    "class DogMammal(Dog, Mammal):\n",
    "    pass\n",
    "\n",
    "# Creating an instance of DogMammal\n",
    "my_dog_mammal = DogMammal()\n",
    "\n",
    "# Calling the reproduce method of DogMammal\n",
    "my_dog_mammal.reproduce()\n",
    "\n"
   ]
  },
  {
   "cell_type": "code",
   "execution_count": 28,
   "metadata": {},
   "outputs": [
    {
     "name": "stdout",
     "output_type": "stream",
     "text": [
      "Bark!\n"
     ]
    }
   ],
   "source": [
    "# 35. Create a class GermanShepherd inheriting from Dog and override the make_sound method to print\n",
    "# \"Bark!\"\n",
    "class Animal:\n",
    "    def make_sound(self):\n",
    "        print(\"Generic animal sound\")\n",
    "\n",
    "    def move(self):\n",
    "        print(\"Animal moves\")\n",
    "\n",
    "class Dog(Animal):\n",
    "    def make_sound(self):\n",
    "        print(\"Woof!\")\n",
    "\n",
    "    def move(self):\n",
    "        print(\"Dog runs\")\n",
    "\n",
    "class GermanShepherd(Dog):\n",
    "    def make_sound(self):\n",
    "        print(\"Bark!\")\n",
    "\n",
    "# Creating an instance of GermanShepherd\n",
    "my_german_shepherd = GermanShepherd()\n",
    "\n",
    "# Calling the make_sound method of GermanShepherd\n",
    "my_german_shepherd.make_sound()\n"
   ]
  },
  {
   "cell_type": "code",
   "execution_count": 29,
   "metadata": {},
   "outputs": [
    {
     "name": "stdout",
     "output_type": "stream",
     "text": [
      "Animal species: Lion\n",
      "Dog breed: Golden Retriever\n",
      "Dog age: 3\n"
     ]
    }
   ],
   "source": [
    "# 36. Define constructors in both the Animal and Dog classes with different initialization parameters.\n",
    "class Animal:\n",
    "    def __init__(self, species):\n",
    "        self.species = species\n",
    "\n",
    "    def make_sound(self):\n",
    "        print(\"Generic animal sound\")\n",
    "\n",
    "    def move(self):\n",
    "        print(\"Animal moves\")\n",
    "\n",
    "class Dog(Animal):\n",
    "    def __init__(self, breed, age):\n",
    "        super().__init__(\"Dog\")\n",
    "        self.breed = breed\n",
    "        self.age = age\n",
    "\n",
    "    def make_sound(self):\n",
    "        print(\"Woof!\")\n",
    "\n",
    "    def move(self):\n",
    "        print(\"Dog runs\")\n",
    "\n",
    "# Creating an instance of Animal\n",
    "my_animal = Animal(\"Lion\")\n",
    "\n",
    "# Creating an instance of Dog\n",
    "my_dog = Dog(\"Golden Retriever\", 3)\n",
    "\n",
    "# Accessing attributes of Animal instance\n",
    "print(\"Animal species:\", my_animal.species)\n",
    "\n",
    "# Accessing attributes of Dog instance\n",
    "print(\"Dog breed:\", my_dog.breed)\n",
    "print(\"Dog age:\", my_dog.age)\n"
   ]
  },
  {
   "cell_type": "markdown",
   "metadata": {},
   "source": [
    "### 37. What is abstraction in Python? How is it implemented?\n",
    "### Abstraction in Python, as well as in object-oriented programming in general, refers to the concept of hiding the complex implementation details of a class and exposing only the essential features of the class to the outside world. It allows programmers to focus on the essential aspects of an object while hiding the unnecessary details.\n",
    "\n",
    "### Abstraction is implemented in Python through the use of abstract classes and interfaces. An abstract class is a class that cannot be instantiated and typically contains one or more abstract methods. An abstract method is a method that is declared but does not have an implementation. Instead, the implementation is provided by subclasses that inherit from the abstract class."
   ]
  },
  {
   "cell_type": "markdown",
   "metadata": {},
   "source": [
    "### 38. Explain the importance of abstraction in object-oriented programming.\n",
    "### Abstraction is a fundamental concept in object-oriented programming (OOP) that involves hiding an application's internal details from the outside world. It helps developers focus on the bigger picture by hiding unwanted details and showing only the most important information."
   ]
  },
  {
   "cell_type": "markdown",
   "metadata": {},
   "source": [
    "### 39. How are abstract methods different from regular methods in Python?\n",
    "### Abstract methods in Python are methods that are declared but not implemented. They are used to define a common interface for a set of classes. Regular methods, on the other hand, are methods that are declared and implemented. They are used to provide specific functionality for a class.\n",
    "### Abstract methods are typically used in abstract classes. Abstract classes are classes that cannot be instantiated directly. They must be subclassed and the abstract methods must be implemented in the subclasses. This allows you to create a common interface for a set of classes without having to implement the same functionality in each class.\n",
    "### Regular methods can be used in any class. They can be used to provide specific functionality for a class or to implement an abstract method."
   ]
  },
  {
   "cell_type": "markdown",
   "metadata": {},
   "source": [
    "### 40. How can you achieve abstraction using interfaces in Python?\n",
    "### In Python, you can achieve abstraction using interfaces. Interfaces are a set of method signatures that a class must implement. This allows you to define a common contract that all classes must adhere to.\n",
    " ### To define an interface in Python, you can use the abc module. This module provides the ABCMeta class, which is the parent class for all interfaces. To create an interface, you subclass ABCMeta and define the methods that the interface requires."
   ]
  },
  {
   "cell_type": "markdown",
   "metadata": {},
   "source": []
  },
  {
   "cell_type": "code",
   "execution_count": null,
   "metadata": {},
   "outputs": [],
   "source": [
    "# 41. Can you provide an example of how abstraction can be utilized to create a common interface for a group of related classes in Python?\n",
    "# Sure! Abstraction in Python can be achieved through abstract base classes (ABCs) using the abc module. ABCs allow you to define a common interface for a group of related classes without necessarily implementing all the methods. Here's an example:\n",
    "\n",
    "from abc import ABC, abstractmethod\n",
    "\n",
    "class Animal(ABC):\n",
    "    def __init__(self, name):\n",
    "        self.name = name\n",
    "    \n",
    "    @abstractmethod\n",
    "    def sound(self):\n",
    "        pass\n",
    "\n",
    "class Dog(Animal):\n",
    "    def sound(self):\n",
    "        return \"Woof!\"\n",
    "\n",
    "class Cat(Animal):\n",
    "    def sound(self):\n",
    "        return \"Meow!\"\n",
    "\n",
    "class Duck(Animal):\n",
    "    def sound(self):\n",
    "        return \"Quack!\"\n",
    "\n",
    "# Usage\n",
    "animals = [Dog(\"Buddy\"), Cat(\"Whiskers\"), Duck(\"Donald\")]\n",
    "\n",
    "for animal in animals:\n",
    "    print(f\"{animal.name} says {animal.sound()}\")\n",
    "# In this example, Animal is an abstract base class with an abstract\n",
    "#  method sound(). This defines a common interface for all subclasses. \n",
    "# Subclasses like Dog, Cat, and Duck are forced to implement the sound() method. This ensures that all classes adhere to the same interface. When we create instances of these subclasses, we can treat them polymorphically as Animal objects, allowing for a common interface to interact with them."
   ]
  },
  {
   "cell_type": "markdown",
   "metadata": {},
   "source": [
    "### 42. How does Python achieve polymorphism through method overriding?\n",
    "### Python achieves polymorphism through method overriding. Method overriding is a feature of object-oriented programming that allows a subclass to provide a different implementation of a method that is already defined in its parent class. This allows for greater flexibility and customization in the behavior of objects.\n",
    "### In Python, method overriding is achieved by simply defining a method in the subclass with the same name as the method in the parent class. The subclass's method will then be used instead of the parent class's method when it is called on an object of the subclass.\n",
    "\n"
   ]
  },
  {
   "cell_type": "markdown",
   "metadata": {},
   "source": [
    "### 43. Define a base class with a method and a subclass that overrides the method.\n",
    "class BaseClass:\n",
    "    def method(self):\n",
    "        print(\"This is the base class method.\")\n",
    "\n",
    "class SubClass(BaseClass):\n",
    "    def method(self):\n",
    "        print(\"This is the subclass method.\")\n",
    "\n",
    "# Create an instance of the base class\n",
    "base_class_instance = BaseClass()\n",
    "\n",
    "# Call the method on the base class instance\n",
    "base_class_instance.method()\n",
    "\n",
    "# Create an instance of the subclass\n",
    "sub_class_instance = SubClass()\n",
    "\n",
    "# Call the method on the subclass instance\n",
    "sub_class_instance.method()"
   ]
  },
  {
   "cell_type": "code",
   "execution_count": null,
   "metadata": {},
   "outputs": [],
   "source": [
    "# 44. Define a base class and multiple subclasses with overridden methods.\n",
    "\n",
    "\n",
    "#  Let's define a base class called Vehicle and three subclasses: Car, Motorcycle, and Truck. Each subclass will have methods specific to its type of vehicle, and they will override methods defined in the base class where necessary.\n",
    "\n",
    "\n",
    "class Vehicle:\n",
    "    def __init__(self, make, model):\n",
    "        self.make = make\n",
    "        self.model = model\n",
    "    \n",
    "    def display_info(self):\n",
    "        return f\"Make: {self.make}, Model: {self.model}\"\n",
    "\n",
    "    def drive(self):\n",
    "        return \"Vehicle is being driven.\"\n",
    "\n",
    "class Car(Vehicle):\n",
    "    def __init__(self, make, model, num_doors):\n",
    "        super().__init__(make, model)\n",
    "        self.num_doors = num_doors\n",
    "    \n",
    "    def display_info(self):\n",
    "        return f\"{super().display_info()}, Number of doors: {self.num_doors}\"\n",
    "\n",
    "    def drive(self):\n",
    "        return \"Car is being driven.\"\n",
    "\n",
    "class Motorcycle(Vehicle):\n",
    "    def __init__(self, make, model, num_wheels):\n",
    "        super().__init__(make, model)\n",
    "        self.num_wheels = num_wheels\n",
    "    \n",
    "    def display_info(self):\n",
    "        return f\"{super().display_info()}, Number of wheels: {self.num_wheels}\"\n",
    "\n",
    "    def drive(self):\n",
    "        return \"Motorcycle is being ridden.\"\n",
    "\n",
    "class Truck(Vehicle):\n",
    "    def __init__(self, make, model, max_load):\n",
    "        super().__init__(make, model)\n",
    "        self.max_load = max_load\n",
    "    \n",
    "    def display_info(self):\n",
    "        return f\"{super().display_info()}, Maximum load: {self.max_load} tons\"\n",
    "\n",
    "    def drive(self):\n",
    "        return \"Truck is being driven.\"\n",
    "\n",
    "# Usage\n",
    "car = Car(\"Toyota\", \"Camry\", 4)\n",
    "motorcycle = Motorcycle(\"Harley-Davidson\", \"Street Glide\", 2)\n",
    "truck = Truck(\"Ford\", \"F-150\", 3)\n",
    "\n",
    "print(car.display_info())\n",
    "print(car.drive())\n",
    "\n",
    "print(motorcycle.display_info())\n",
    "print(motorcycle.drive())\n",
    "\n",
    "print(truck.display_info())\n",
    "print(truck.drive())"
   ]
  },
  {
   "cell_type": "markdown",
   "metadata": {},
   "source": [
    "### 45. How does polymorphism improve code readability and reusability?\n",
    "### Polymorphism is a programming concept that allows a single function, method, or operator to work with multiple types of objects or different classes. This improves code readability and reusability by:\n",
    "### Promoting code reuse\n",
    "# Polymorphism allows you to write generic code that operates on objects of different types without needing to know their specific implementations.\n",
    "### Eliminating redundancy\n",
    "# Polymorphism leads to shorter, more concise code that is easier to understand and maintain.\n",
    "### Increasing flexibility\n",
    "# Polymorphism allows objects of different classes to be treated as objects of a common superclass.\n",
    "### Promoting modular and organized code structure\n",
    "# Polymorphism allows the use of generic functions across different classes that share a common interface."
   ]
  },
  {
   "cell_type": "markdown",
   "metadata": {},
   "source": [
    "# 46. Describe how Python supports polymorphism with duck typing.\n",
    "### Python supports polymorphism with duck typing. Duck typing is a dynamic typing approach that allows objects to be used based on their behavior, rather than their class. This means that if an object has the methods and attributes necessary to be used in a certain way, it can be used in that way, regardless of its class.\n",
    "### For example, the following code defines a function called quack(), which takes an object as an argument and calls the quack() method on that object:\n",
    "def quack(obj):\n",
    "    obj.quack()"
   ]
  },
  {
   "cell_type": "markdown",
   "metadata": {},
   "source": [
    "# 47. How do you achieve encapsulation in Python?\n",
    "### Encapsulation in Python is achieved by bundling data and methods together within a class and controlling access to them through the use of access modifiers. In Python, there are no direct access modifiers like public, private, and protected. Instead, we use the following conventions to achieve encapsulation:\n",
    "### Public members: Accessible anywhere from outside the class.\n",
    "\n",
    "### Private members: Accessible only within the class.\n",
    "### Protected members: Accessible within the class and its subclasses.\n",
    "class Person:\n",
    "    def __init__(self, name):\n",
    "        self._name = name\n",
    "\n",
    "    def get_name(self):\n",
    "        return self._name\n"
   ]
  },
  {
   "cell_type": "markdown",
   "metadata": {},
   "source": [
    "# 48. Can encapsulation be bypassed in Python? If so, how?\n",
    "### Encapsulation in Python is more of a convention rather than a strict rule enforced by the language itself. In Python, encapsulation is typically achieved through naming conventions and the use of underscores to denote the level of access to certain attributes or methods. However, since Python doesn't have strict access modifiers like some other languages (e.g., private, protected), it's technically possible to bypass encapsulation. Here are a few ways:\n",
    "\n",
    "### Direct Access: Python allows direct access to attributes and methods of an object. Even if an attribute or method is meant to be private (denoted by a single underscore _ prefix), it can still be accessed directly from outside the class.\n",
    "\n",
    "python\n",
    "Copy code\n",
    "class MyClass:\n",
    "    def __init__(self):\n",
    "        self._private_variable = 10\n",
    "\n",
    "obj = MyClass()\n",
    "print(obj._private_variable)  # Direct access\n",
    "\n",
    "### Using Name Mangling: Python employs name mangling to make attributes or methods \"pseudo-private\" by adding _ClassName before their names. Although this is meant to discourage direct access, it's still technically possible to access them.\n",
    "\n",
    "python\n",
    "Copy code\n",
    "class MyClass:\n",
    "    def __init__(self):\n",
    "        self.__private_variable = 10\n",
    "\n",
    "obj = MyClass()print(obj._MyClass__private_variable)  # Name mangling to access\n",
    "### Using Property Decorators: Python's property decorator allows controlling attribute access through getter and setter methods. However, it doesn't enforce encapsulation strictly.\n",
    "\n",
    "python\n",
    "Copy code\n",
    "class MyClass:\n",
    "    def __init__(self):\n",
    "        self._x = 0\n",
    "\n",
    "    @property\n",
    "    def x(self):\n",
    "        return self._x\n",
    "\n",
    "    @x.setter\n",
    "    def x(self, value):\n",
    "        if value < 0:\n",
    "            self._x = 0\n",
    "        else:\n",
    "            self._x = value\n",
    "\n",
    "obj = MyClass()\n",
    "obj.x = -5  # Directly setting the property, bypassing encapsulation"
   ]
  },
  {
   "cell_type": "code",
   "execution_count": null,
   "metadata": {},
   "outputs": [],
   "source": [
    "# 49. Implement a class BankAccount with a private balance attribute. Include methods to deposit, withdraw, and check the balance.\n",
    "class BankAccount:\n",
    "    def __init__(self, initial_balance=0):\n",
    "        self.__balance = initial_balance  # Private attribute denoted by double underscore\n",
    "\n",
    "    def deposit(self, amount):\n",
    "        if amount > 0:\n",
    "            self.__balance += amount\n",
    "            print(f\"Deposited ${amount}. New balance: ${self.__balance}\")\n",
    "        else:\n",
    "            print(\"Deposit amount must be positive.\")\n",
    "\n",
    "    def withdraw(self, amount):\n",
    "        if 0 < amount <= self.__balance:\n",
    "            self.__balance -= amount\n",
    "            print(f\"Withdrew ${amount}. New balance: ${self.__balance}\")\n",
    "        else:\n",
    "            print(\"Withdrawal amount must be positive and less than or equal to balance.\")\n",
    "\n",
    "    def check_balance(self):\n",
    "        print(f\"Current balance: ${self.__balance}\")\n",
    "\n",
    "\n",
    "# Example usage\n",
    "account = BankAccount(100)  # Creating an account with initial balance $100\n",
    "account.check_balance()     # Checking balance\n",
    "account.deposit(50)         # Depositing $50\n",
    "account.withdraw(30)        # Withdrawing $30\n",
    "account.check_balance()     # Checking balance again\n"
   ]
  },
  {
   "cell_type": "code",
   "execution_count": null,
   "metadata": {},
   "outputs": [],
   "source": [
    "# 50. Develop a Person class with private attributes name and email, and methods to set and get the email.\n",
    "class Person:\n",
    "    def __init__(self, name, email):\n",
    "        self.__name = name  # Private attribute denoted by double underscore\n",
    "        self.__email = email  # Private attribute denoted by double underscore\n",
    "\n",
    "    def set_email(self, new_email):\n",
    "        self.__email = new_email\n",
    "\n",
    "    def get_email(self):\n",
    "        return self.__email\n",
    "\n",
    "\n",
    "# Example usage\n",
    "person = Person(\"John Doe\", \"john@example.com\")\n",
    "print(\"Name:\", person._Person__name)  # Accessing private attribute directly (not recommended)\n",
    "print(\"Email:\", person.get_email())  # Getting email using method\n",
    "person.set_email(\"john.doe@example.com\")  # Setting new email\n",
    "print(\"New Email:\", person.get_email())  # Getting updated email\n"
   ]
  },
  {
   "cell_type": "markdown",
   "metadata": {},
   "source": [
    "# 51. Why is encapsulation considered a pillar of object-oriented programming (OOP)?\n",
    "\n",
    "### Encapsulation is considered one of the pillars of Object-Oriented Programming (OOP) because it promotes several key principles that are fundamental to the design and development of robust, maintainable, and scalable software systems. Here are some reasons why encapsulation is regarded as crucial in OOP:\n",
    "\n",
    "### 1.Data Hiding: Encapsulation allows the internal state of an object (its data) to be hidden from the outside world. By controlling access to the object's attributes and methods, encapsulation prevents direct manipulation of the object's state, reducing the risk of accidental modification or misuse. This enhances data integrity and security within the system.\n",
    "\n",
    "### 2.Abstraction: Encapsulation enables the concept of abstraction, where the complex implementation details of an object are hidden behind a simple and intuitive interface. Users of the object interact with it through well-defined methods and properties, without needing to understand how those methods are implemented internally. This abstraction simplifies the usage of objects and promotes code readability and maintainability.\n",
    "\n",
    "### 3.Modularity and Reusability: Encapsulation facilitates modularity by encapsulating related data and behavior into a single unit (an object). Objects can be designed to operate independently, allowing developers to break down complex systems into smaller, manageable components. These components can then be reused in different parts of the application or in other applications altogether, leading to more modular, reusable, and maintainable code.\n",
    "\n",
    "### 4.Encapsulation of Invariants: Encapsulation allows developers to enforce invariants (constraints or rules) on the object's state by controlling access to its attributes and methods. By encapsulating the implementation details within the object, developers can ensure that the object's state remains consistent and valid at all times, even as the object is manipulated by various parts of the system.\n",
    "\n",
    "### 5.Encapsulation of Implementation Changes: Encapsulation provides a clear boundary between an object's interface (public API) and its implementation details. This separation allows developers to modify or improve the internal implementation of an object without affecting the external code that interacts with it. As long as the object's interface remains unchanged, clients of the object can continue to use it without needing to update their code."
   ]
  },
  {
   "cell_type": "markdown",
   "metadata": {},
   "source": [
    "# 51. Why is encapsulation considered a pillar of object-oriented programming (OOP)?\n",
    "\n",
    "### Encapsulation promotes data hiding, abstraction, and modularity. It helps to ensure that data is protected and prevents it from being changed or accessed by unintended code. Encapsulation allows developers to create more secure, reusable, and maintainable code. It also allows you to write clean, readable, and efficient code and prevent accidental changes or deletion of your class data. \n",
    "### The four pillars of OOPs are encapsulation, abstraction, inheritance, and polymorphism"
   ]
  },
  {
   "cell_type": "code",
   "execution_count": null,
   "metadata": {},
   "outputs": [],
   "source": [
    "# 52. Create a decorator in Python that adds functionality to a simple function by printing a message before and after the function execution.\n",
    "def my_decorator(func):\n",
    "    def wrapper(*args, **kwargs):\n",
    "        print(\"Before the function execution\")\n",
    "        result = func(*args, **kwargs)\n",
    "        print(\"After the function execution\")\n",
    "        return result\n",
    "    return wrapper\n",
    "\n",
    "@my_decorator\n",
    "def my_function():\n",
    "    print(\"Inside the function\")\n",
    "\n",
    "# Calling the decorated function\n",
    "my_function()\n"
   ]
  },
  {
   "cell_type": "code",
   "execution_count": null,
   "metadata": {},
   "outputs": [],
   "source": [
    "#53. Modify the decorator to accept arguments and print the function name along with the message.\n",
    "def my_decorator(func):\n",
    "    def wrapper(*args, **kwargs):\n",
    "        print(f\"Before the function '{func.__name__}' execution\")\n",
    "        result = func(*args, **kwargs)\n",
    "        print(f\"After the function '{func.__name__}' execution\")\n",
    "        return result\n",
    "    return wrapper\n",
    "\n",
    "@my_decorator\n",
    "def my_function():\n",
    "    print(\"Inside the function\")\n",
    "\n",
    "@my_decorator\n",
    "def another_function(x, y):\n",
    "    print(f\"Inside another_function with arguments: {x}, {y}\")\n",
    "    return x + y\n",
    "\n",
    "# Calling the decorated functions\n",
    "my_function()\n",
    "result = another_function(5, 10)\n",
    "print(f\"Result of another_function: {result}\")\n"
   ]
  },
  {
   "cell_type": "code",
   "execution_count": null,
   "metadata": {},
   "outputs": [],
   "source": [
    "# 54. Create two decorators, and apply them to a single function. Ensure that they execute in the order they are applied.\n",
    "def decorator_one(func):\n",
    "    def wrapper(*args, **kwargs):\n",
    "        print(\"Decorator One: Before the function execution\")\n",
    "        result = func(*args, **kwargs)\n",
    "        print(\"Decorator One: After the function execution\")\n",
    "        return result\n",
    "    return wrapper\n",
    "\n",
    "def decorator_two(func):\n",
    "    def wrapper(*args, **kwargs):\n",
    "        print(\"Decorator Two: Before the function execution\")\n",
    "        result = func(*args, **kwargs)\n",
    "        print(\"Decorator Two: After the function execution\")\n",
    "        return result\n",
    "    return wrapper\n",
    "\n",
    "@decorator_one\n",
    "@decorator_two\n",
    "def my_function():\n",
    "    print(\"Inside the function\")\n",
    "\n",
    "# Calling the decorated function\n",
    "my_function()\n"
   ]
  },
  {
   "cell_type": "code",
   "execution_count": null,
   "metadata": {},
   "outputs": [],
   "source": [
    "#55. Modify the decorator to accept and pass function arguments to the wrapped function.\n",
    "def decorator_one(func):\n",
    "    def wrapper(*args, **kwargs):\n",
    "        print(\"Decorator One: Before the function execution\")\n",
    "        result = func(*args, **kwargs)\n",
    "        print(\"Decorator One: After the function execution\")\n",
    "        return result\n",
    "    return wrapper\n",
    "\n",
    "def decorator_two(func):\n",
    "    def wrapper(*args, **kwargs):\n",
    "        print(\"Decorator Two: Before the function execution\")\n",
    "        result = func(*args, **kwargs)\n",
    "        print(\"Decorator Two: After the function execution\")\n",
    "        return result\n",
    "    return wrapper\n",
    "\n",
    "@decorator_one\n",
    "@decorator_two\n",
    "def my_function(a, b):\n",
    "    print(f\"Inside the function with arguments: {a}, {b}\")\n",
    "    return a + b\n",
    "\n",
    "# Calling the decorated function\n",
    "result = my_function(5, 10)\n",
    "print(f\"Result of my_function: {result}\")\n"
   ]
  },
  {
   "cell_type": "code",
   "execution_count": null,
   "metadata": {},
   "outputs": [],
   "source": [
    "#56. Create a decorator that preserves the metadata of the original function.\n",
    "import functools\n",
    "\n",
    "def my_decorator(func):\n",
    "    @functools.wraps(func)\n",
    "    def wrapper(*args, **kwargs):\n",
    "        print(\"Before the function execution\")\n",
    "        result = func(*args, **kwargs)\n",
    "        print(\"After the function execution\")\n",
    "        return result\n",
    "    return wrapper\n",
    "\n",
    "@my_decorator\n",
    "def my_function(a, b):\n",
    "    \"\"\"This is the original function's docstring.\"\"\"\n",
    "    print(f\"Inside the function with arguments: {a}, {b}\")\n",
    "    return a + b\n",
    "\n",
    "# Calling the decorated function\n",
    "result = my_function(5, 10)\n",
    "print(f\"Result of my_function: {result}\")\n",
    "\n",
    "# Checking the metadata\n",
    "print(f\"Function name: {my_function.__name__}\")\n",
    "print(f\"Docstring: {my_function.__doc__}\")\n"
   ]
  },
  {
   "cell_type": "code",
   "execution_count": null,
   "metadata": {},
   "outputs": [],
   "source": [
    "#57. Create a Python class 'Calculator with a static method 'add' that takes in two numbers and returns their sum.\n",
    "class Calculator:\n",
    "    @staticmethod\n",
    "    def add(a, b):\n",
    "        return a + b\n",
    "\n",
    "# Example usage:\n",
    "result = Calculator.add(5, 10)\n",
    "print(f\"The sum is: {result}\")\n"
   ]
  },
  {
   "cell_type": "code",
   "execution_count": null,
   "metadata": {},
   "outputs": [],
   "source": [
    "#58. Create a Python class Employee with a class method get _employee _count that returns the total number of employees created.\n",
    "class Employee:\n",
    "    # Class variable to keep track of the number of employees\n",
    "    _employee_count = 0\n",
    "\n",
    "    def __init__(self, name):\n",
    "        self.name = name\n",
    "        Employee._employee_count += 1\n",
    "\n",
    "    @classmethod\n",
    "    def get_employee_count(cls):\n",
    "        return cls._employee_count\n",
    "\n",
    "# Example usage:\n",
    "emp1 = Employee(\"Alice\")\n",
    "emp2 = Employee(\"Bob\")\n",
    "emp3 = Employee(\"Charlie\")\n",
    "\n",
    "print(f\"Total number of employees: {Employee.get_employee_count()}\")\n"
   ]
  },
  {
   "cell_type": "code",
   "execution_count": null,
   "metadata": {},
   "outputs": [],
   "source": [
    "#59. Create a Python class StringFormatter with a static method reverse_string that takes a string as input and returns its reverse.\n",
    "class StringFormatter:\n",
    "    @staticmethod\n",
    "    def reverse_string(s):\n",
    "        return s[::-1]\n",
    "\n",
    "# Example usage:\n",
    "reversed_string = StringFormatter.reverse_string(\"hello\")\n",
    "print(f\"Reversed string: {reversed_string}\")\n"
   ]
  },
  {
   "cell_type": "code",
   "execution_count": null,
   "metadata": {},
   "outputs": [],
   "source": [
    "#60. Create a Python class Circle with a class method 'calculate _area' that calculates the area of a circle given its radius.\n",
    "class Circle:\n",
    "    @classmethod\n",
    "    def calculate_area(cls, radius):\n",
    "        return 3.14 * radius ** 2  # Assuming pi is approximately 3.14\n",
    "\n",
    "# Example usage:\n",
    "radius = 5\n",
    "area = Circle.calculate_area(radius)\n",
    "print(f\"The area of the circle with radius {radius} is: {area}\")\n"
   ]
  },
  {
   "cell_type": "code",
   "execution_count": null,
   "metadata": {},
   "outputs": [],
   "source": [
    "#61. Create a Python class TemperatureConverter with a static method celsius_to_fahrenheit that converts\n",
    "# Celsius to Fahrenheit.\n",
    "class TemperatureConverter:\n",
    "    @staticmethod\n",
    "    def celsius_to_fahrenheit(celsius):\n",
    "        return (celsius * 9/5) + 32\n",
    "\n",
    "# Example usage:\n",
    "celsius_temperature = 20\n",
    "fahrenheit_temperature = TemperatureConverter.celsius_to_fahrenheit(celsius_temperature)\n",
    "print(f\"{celsius_temperature}°C is equal to {fahrenheit_temperature}°F\")\n"
   ]
  },
  {
   "cell_type": "code",
   "execution_count": null,
   "metadata": {},
   "outputs": [],
   "source": [
    "#62. What is the purpose of the __ str__) method in Python classes? Provide an example.\n",
    "class Point:\n",
    "    def __init__(self, x, y):\n",
    "        self.x = x\n",
    "        self.y = y\n",
    "\n",
    "    def __str__(self):\n",
    "        return f\"Point({self.x}, {self.y})\"\n",
    "\n",
    "# Creating an instance of the Point class\n",
    "p = Point(3, 5)\n",
    "\n",
    "# Printing the object\n",
    "print(p)\n"
   ]
  },
  {
   "cell_type": "markdown",
   "metadata": {},
   "source": [
    "# 63. How does the __len __() method work in Python? Provide an example.\n",
    "### The __len__() method in Python is a special method that is used to determine the length of an object. It is called when the len() function is used on an object. The __len__() method should return an integer value that represents the length of the object."
   ]
  },
  {
   "cell_type": "markdown",
   "metadata": {},
   "source": [
    "# 64. Explain the usage of the _add __() method in Python classes. Provide an example.\n",
    "### The __add__() method in Python classes is a special method that is called when the + operator is used on objects of that class. It allows you to define custom behavior for addition, such as adding the attributes of two objects together.\n",
    "### For example, let's say we have a class called Point that represents a point on a coordinate plane. We could define a __add__() method for this class to add the x and y coordinates of two Point objects together:\n"
   ]
  },
  {
   "cell_type": "markdown",
   "metadata": {},
   "source": [
    "# 65. What is the purpose of the __getitem __() method in Python? Provide an example.\n",
    "### The __getitem__ method in Python is a special method that allows objects to be indexed. This means that you can use the square bracket notation ([]) to access elements of an object, just like you would with a list or dictionary.\n",
    "The __getitem__ method takes two arguments: the object itself and the index of the element you want to access. It returns the element at that index, or raises an IndexError exception if the index is out of range.\n",
    "Here is an example of a simple class that uses the __getitem__ method:\n",
    "Python\n",
    "\n",
    "\n"
   ]
  },
  {
   "cell_type": "markdown",
   "metadata": {},
   "source": [
    "# 66. Explain the usage of the iter_() and __next __() methods in Python. Provide an example using iterators.\n",
    "The iter() and __next__() methods in Python are used to iterate over iterable objects.\n",
    "The iter() method takes an iterable object as an argument and returns an iterator object. An iterable object is an object that can be looped over, such as a list, tuple, string, or dictionary. The iterator object returned by the iter() method can be used to iterate over the elements of the iterable object.\n",
    "The __next__() method is a special method that is called on an iterator object to get the next element in the sequence. When there are no more elements in the sequence, the __next__() method raises a StopIteration exception."
   ]
  },
  {
   "cell_type": "markdown",
   "metadata": {},
   "source": [
    "# 67. What is the purpose of a getter method in Python? Provide an example demonstrating the use of a getter method using property decorators.\n",
    "A getter method is a method in Python that is used to get the value of a private attribute. Private attributes are attributes that are not accessible outside of the class in which they are defined. Getter methods allow us to access these private attributes without having to make them public.\n",
    "class Person:\n",
    "    def __init__(self, name, age):\n",
    "        self._name = name\n",
    "        self._age = age\n",
    "\n",
    "    @property\n",
    "    def name(self):\n",
    "        return self._name\n",
    "\n",
    "    @property\n",
    "    def age(self):\n",
    "        return self._age\n",
    "\n",
    "person = Person(\"Alice\", 25)\n",
    "\n",
    "print(person.name)\n",
    "print(person.age)"
   ]
  },
  {
   "cell_type": "markdown",
   "metadata": {},
   "source": [
    "# 68. Explain the role of setter methods in Python. Demonstrate how to use a setter method to modify a class attribute using property decorators.\n",
    "Setter methods in Python are used to modify the value of an attribute of an object. They are used to control access to private and protected variables in a class, and to hide the implementation details of a class from external users."
   ]
  },
  {
   "cell_type": "markdown",
   "metadata": {},
   "source": [
    "# 69. What is the purpose of the @property decorator in Python? Provide an example illustrating its usage.\n",
    "The @property decorator is a built-in Python decorator that allows you to define properties on a class. Properties are a special type of attribute that can have a getter, a setter, and a deleter. The getter and setter methods are used to get and set the value of the property, respectively. The deleter method is used to delete the property.\n",
    "One of the main benefits of using properties is that they allow you to control how your attributes are accessed and modified. For example, you can use a getter to validate the value of an attribute before it is set. You can also use a setter to perform some other action when an attribute is set, such as logging the change."
   ]
  },
  {
   "cell_type": "markdown",
   "metadata": {},
   "source": [
    "# 70. Explain the use of the @deleter decorator in Python property decorators. Provide a code example demonstrating its application.\n",
    "The @deleter decorator in Python property decorators is used to specify a method that will be called when an attribute is deleted. This can be useful for ensuring that certain actions are taken when an attribute is deleted, such as cleaning up resources or logging the deletion.\n",
    "class Person:\n",
    "    def __init__(self, name):\n",
    "        self._name = name\n",
    "\n",
    "    @property\n",
    "    def name(self):\n",
    "        return self._name\n",
    "\n",
    "    @name.setter\n",
    "    def name(self, value):\n",
    "        self._name = value\n",
    "\n",
    "    @name.deleter\n",
    "    def name(self):\n",
    "        print(\"Deleting the name attribute.\")\n",
    "\n",
    "person = Person(\"Alice\")\n",
    "\n",
    "print(person.name) \n",
    "\n",
    "del person.name  # \"Deleting the name attribute.\"\n",
    "\n",
    "print(person.name) "
   ]
  },
  {
   "cell_type": "markdown",
   "metadata": {},
   "source": [
    "# 71. How does encapsulation relate to property decorators in Python? Provide an example showcasing encapsulation using property decorators.\n",
    "Encapsulation is a fundamental concept in object-oriented programming that involves wrapping data and methods together within a single unit, known as a class. This bundling of data and methods helps protect the data from being accessed or modified directly, promoting data security and integrity.\n",
    "Property decorators in Python play a crucial role in implementing encapsulation. They allow developers to define getter and setter methods for accessing and modifying class attributes, providing a controlled interface for data manipulation.\n"
   ]
  },
  {
   "cell_type": "code",
   "execution_count": null,
   "metadata": {},
   "outputs": [],
   "source": []
  },
  {
   "cell_type": "code",
   "execution_count": null,
   "metadata": {},
   "outputs": [],
   "source": []
  },
  {
   "cell_type": "code",
   "execution_count": null,
   "metadata": {},
   "outputs": [],
   "source": []
  },
  {
   "cell_type": "code",
   "execution_count": null,
   "metadata": {},
   "outputs": [],
   "source": []
  },
  {
   "cell_type": "code",
   "execution_count": null,
   "metadata": {},
   "outputs": [],
   "source": []
  },
  {
   "cell_type": "code",
   "execution_count": null,
   "metadata": {},
   "outputs": [],
   "source": []
  },
  {
   "cell_type": "code",
   "execution_count": null,
   "metadata": {},
   "outputs": [],
   "source": []
  },
  {
   "cell_type": "code",
   "execution_count": null,
   "metadata": {},
   "outputs": [],
   "source": []
  },
  {
   "cell_type": "code",
   "execution_count": null,
   "metadata": {},
   "outputs": [],
   "source": []
  },
  {
   "cell_type": "code",
   "execution_count": null,
   "metadata": {},
   "outputs": [],
   "source": []
  },
  {
   "cell_type": "code",
   "execution_count": null,
   "metadata": {},
   "outputs": [],
   "source": []
  },
  {
   "cell_type": "code",
   "execution_count": null,
   "metadata": {},
   "outputs": [],
   "source": []
  },
  {
   "cell_type": "code",
   "execution_count": null,
   "metadata": {},
   "outputs": [],
   "source": []
  }
 ],
 "metadata": {
  "kernelspec": {
   "display_name": "Python 3",
   "language": "python",
   "name": "python3"
  },
  "language_info": {
   "codemirror_mode": {
    "name": "ipython",
    "version": 3
   },
   "file_extension": ".py",
   "mimetype": "text/x-python",
   "name": "python",
   "nbconvert_exporter": "python",
   "pygments_lexer": "ipython3",
   "version": "3.10.11"
  }
 },
 "nbformat": 4,
 "nbformat_minor": 2
}
